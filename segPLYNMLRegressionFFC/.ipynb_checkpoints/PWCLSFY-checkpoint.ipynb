{
 "cells": [
  {
   "cell_type": "code",
   "execution_count": 62,
   "id": "90a7c9c9-b8fc-4b19-98b6-f6c30799cc72",
   "metadata": {},
   "outputs": [],
   "source": [
    "import cv2 as cv\n",
    "import numpy as np\n",
    "import os\n",
    "from roifile import ImagejRoi\n",
    "import skimage.io as skio\n",
    "from skimage.draw import polygon\n",
    "import matplotlib.pyplot as plt"
   ]
  },
  {
   "cell_type": "code",
   "execution_count": 58,
   "id": "b555c810-1cc9-4c11-80db-dc19bec0715f",
   "metadata": {},
   "outputs": [],
   "source": [
    "foreGrndAnno = 'RoiSetForeGrnd.zip'\n",
    "backGrndAnno = 'RoiSetBackGrnd.zip'\n",
    "imgType = 'uint16'"
   ]
  },
  {
   "cell_type": "code",
   "execution_count": 4,
   "id": "2f0c8f9e-3f2d-4705-9e6a-9de036b8fc55",
   "metadata": {},
   "outputs": [],
   "source": [
    "fGAList = ImagejRoi.fromfile(foreGrndAnno)\n",
    "bGAList = ImagejRoi.fromfile(backGrndAnno)"
   ]
  },
  {
   "cell_type": "code",
   "execution_count": 64,
   "id": "ff1a139f-1829-4460-999e-cd5c4ffdcd42",
   "metadata": {},
   "outputs": [],
   "source": [
    "imgStack = skio.imread(\"StackOrigin.tif\", plugin=\"tifffile\").astype(imgType)\n",
    "imgShape = imgStack.shape\n",
    "# Channel First"
   ]
  },
  {
   "cell_type": "code",
   "execution_count": 65,
   "id": "c9e66ad1-e65e-450d-961e-c86d5968eefe",
   "metadata": {},
   "outputs": [],
   "source": [
    "maskStack = np.zeros(imgShape, dtype = 'uint8')"
   ]
  },
  {
   "cell_type": "code",
   "execution_count": null,
   "id": "46ef3857-62dc-45d3-8b80-3c7324c1f183",
   "metadata": {},
   "outputs": [],
   "source": [
    "for tPos in range(maskStack.shape[0]):\n",
    "    for roiIdx in range(len(fGAList)):\n",
    "        roi = fGAList[roiIdx]\n",
    "        if roi.position == (tPos + 1):\n",
    "            vtxList = roi.coordinates(multi = True)\n",
    "            for regionIdx in range(len(vtxList)):\n",
    "                region = vtxList[regionIdx]\n",
    "                rPos = region[:, 1]\n",
    "                cPos = region[:, 0]\n",
    "                rr,cc = polygon(rPos, cPos) \n",
    "                maskStack[tPos, rr, cc] = 1"
   ]
  },
  {
   "cell_type": "code",
   "execution_count": 61,
   "id": "e744bc8b-977d-4bcd-b7fa-6080fb3b510c",
   "metadata": {},
   "outputs": [
    {
     "data": {
      "text/plain": [
       "array([1466., 1466., 1464., 1464., 1463., 1463., 1462., 1462., 1461.,\n",
       "       1461., 1460., 1460., 1459., 1459., 1458., 1458., 1457., 1457.,\n",
       "       1456., 1456., 1455., 1455., 1454., 1454., 1453., 1453., 1454.,\n",
       "       1454., 1458., 1458., 1459., 1459., 1460., 1460., 1461., 1461.,\n",
       "       1463., 1463., 1464., 1464., 1465., 1465., 1466., 1466., 1467.,\n",
       "       1467., 1469., 1469., 1476., 1476., 1477., 1477., 1476., 1476.,\n",
       "       1466.], dtype=float32)"
      ]
     },
     "execution_count": 61,
     "metadata": {},
     "output_type": "execute_result"
    }
   ],
   "source": [
    "fGAList[12].coordinates(multi = True)[0][:, 0]"
   ]
  },
  {
   "cell_type": "code",
   "execution_count": 22,
   "id": "6549ce7b-1a59-4882-bdcf-0367f9cf3b12",
   "metadata": {},
   "outputs": [
    {
     "data": {
      "text/plain": [
       "['byteorder',\n",
       " 'roitype',\n",
       " 'subtype',\n",
       " 'options',\n",
       " 'name',\n",
       " 'props',\n",
       " 'version',\n",
       " 'top',\n",
       " 'left',\n",
       " 'bottom',\n",
       " 'right',\n",
       " 'n_coordinates',\n",
       " 'stroke_width',\n",
       " 'shape_roi_size',\n",
       " 'stroke_color',\n",
       " 'fill_color',\n",
       " 'arrow_style_or_aspect_ratio',\n",
       " 'arrow_head_size',\n",
       " 'rounded_rect_arc_size',\n",
       " 'position',\n",
       " 'c_position',\n",
       " 'z_position',\n",
       " 't_position',\n",
       " 'x1',\n",
       " 'y1',\n",
       " 'x2',\n",
       " 'y2',\n",
       " 'xd',\n",
       " 'yd',\n",
       " 'widthd',\n",
       " 'heightd',\n",
       " 'overlay_label_color',\n",
       " 'overlay_font_size',\n",
       " 'group',\n",
       " 'image_opacity',\n",
       " 'image_size',\n",
       " 'float_stroke_width',\n",
       " 'integer_coordinates',\n",
       " 'subpixel_coordinates',\n",
       " 'multi_coordinates',\n",
       " 'counters',\n",
       " 'counter_positions',\n",
       " 'text_size',\n",
       " 'text_style',\n",
       " 'text_justification',\n",
       " 'text_name',\n",
       " 'text',\n",
       " '__module__',\n",
       " '__annotations__',\n",
       " '__doc__',\n",
       " 'frompoints',\n",
       " 'fromfile',\n",
       " 'frombytes',\n",
       " 'tofile',\n",
       " 'tobytes',\n",
       " 'plot',\n",
       " 'coordinates',\n",
       " 'hexcolor',\n",
       " 'path2coords',\n",
       " 'composite',\n",
       " 'subpixelresolution',\n",
       " 'drawoffset',\n",
       " 'subpixelrect',\n",
       " 'autoname',\n",
       " 'utf16',\n",
       " '__eq__',\n",
       " '__repr__',\n",
       " '__str__',\n",
       " '__dict__',\n",
       " '__weakref__',\n",
       " '__hash__',\n",
       " '__dataclass_params__',\n",
       " '__dataclass_fields__',\n",
       " '__init__',\n",
       " '__getattribute__',\n",
       " '__setattr__',\n",
       " '__delattr__',\n",
       " '__lt__',\n",
       " '__le__',\n",
       " '__ne__',\n",
       " '__gt__',\n",
       " '__ge__',\n",
       " '__new__',\n",
       " '__reduce_ex__',\n",
       " '__reduce__',\n",
       " '__subclasshook__',\n",
       " '__init_subclass__',\n",
       " '__format__',\n",
       " '__sizeof__',\n",
       " '__dir__',\n",
       " '__class__']"
      ]
     },
     "execution_count": 22,
     "metadata": {},
     "output_type": "execute_result"
    }
   ],
   "source": [
    "fGAList[3].__dir__()"
   ]
  },
  {
   "attachments": {
    "ef5adcbf-2c6c-469b-99d5-045d74b8d6d6.PNG": {
     "image/png": "[encoded data removed]"
    }
   },
   "cell_type": "markdown",
   "id": "0b324573-da0a-43ee-874c-d3a87494b380",
   "metadata": {},
   "source": [
    "![features.PNG](attachment:ef5adcbf-2c6c-469b-99d5-045d74b8d6d6.PNG)"
   ]
  }
 ],
 "metadata": {
  "kernelspec": {
   "display_name": "Python 3 (ipykernel)",
   "language": "python",
   "name": "python3"
  },
  "language_info": {
   "codemirror_mode": {
    "name": "ipython",
    "version": 3
   },
   "file_extension": ".py",
   "mimetype": "text/x-python",
   "name": "python",
   "nbconvert_exporter": "python",
   "pygments_lexer": "ipython3",
   "version": "3.9.7"
  }
 },
 "nbformat": 4,
 "nbformat_minor": 5
}
